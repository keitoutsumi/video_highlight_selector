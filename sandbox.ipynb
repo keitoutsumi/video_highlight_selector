{
 "cells": [
  {
   "cell_type": "code",
   "execution_count": 12,
   "metadata": {},
   "outputs": [],
   "source": [
    "import cv2\n",
    "input_video_path = \"F:\\\\valorant_video_annotation\\\\input_video_2.mp4\"\n",
    "output_video_path = \"F:\\\\valorant_video_annotation\\\\lowres_lowfps_video_2.mp4\"\n",
    "cap = cv2.VideoCapture(input_video_path)\n",
    "\n",
    "fps = int(cap.get(cv2.CAP_PROP_FPS))\n",
    "new_fps = fps // 4\n",
    "\n",
    "\n",
    "new_frame_size = (320, 180)\n",
    "\n",
    "fourcc = int(cap.get(cv2.CAP_PROP_FOURCC))\n",
    "out = cv2.VideoWriter(output_video_path, fourcc, new_fps, new_frame_size)\n",
    "\n",
    "frame_count = 0\n",
    "while True:\n",
    "    ret, frame = cap.read()\n",
    "    \n",
    "    if not ret:\n",
    "        break\n",
    "    \n",
    "    resized_frame = cv2.resize(frame, new_frame_size)\n",
    "    \n",
    "    if frame_count % 4 == 0:\n",
    "        out.write(resized_frame)\n",
    "    \n",
    "    frame_count += 1\n",
    "\n",
    "cap.release()\n",
    "out.release()\n"
   ]
  }
 ],
 "metadata": {
  "kernelspec": {
   "display_name": "research",
   "language": "python",
   "name": "python3"
  },
  "language_info": {
   "codemirror_mode": {
    "name": "ipython",
    "version": 3
   },
   "file_extension": ".py",
   "mimetype": "text/x-python",
   "name": "python",
   "nbconvert_exporter": "python",
   "pygments_lexer": "ipython3",
   "version": "3.9.16"
  },
  "orig_nbformat": 4
 },
 "nbformat": 4,
 "nbformat_minor": 2
}
